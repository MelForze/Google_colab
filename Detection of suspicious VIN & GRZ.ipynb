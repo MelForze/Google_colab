{
  "nbformat": 4,
  "nbformat_minor": 0,
  "metadata": {
    "colab": {
      "provenance": []
    },
    "kernelspec": {
      "name": "python3",
      "display_name": "Python 3"
    },
    "language_info": {
      "name": "python"
    }
  },
  "cells": [
    {
      "cell_type": "code",
      "source": [
        "# Импортируем нужные нам библиотеки\n",
        "import pandas as pd\n",
        "from difflib import SequenceMatcher"
      ],
      "metadata": {
        "id": "n3DWczEZt-MV"
      },
      "execution_count": 8,
      "outputs": []
    },
    {
      "cell_type": "code",
      "source": [
        "# Функция для расчета схожести двух строк с использованием SequenceMatcher\n",
        "def calculate_similarity(str1, str2):\n",
        "    return SequenceMatcher(None, str1, str2).ratio()"
      ],
      "metadata": {
        "id": "8lBme8mzuBAm"
      },
      "execution_count": 2,
      "outputs": []
    },
    {
      "cell_type": "code",
      "source": [
        "# Загружаем Excel-файлы с данными о страховых случаях и автомобилях\n",
        "claims_file_path = 'claims.xlsx'\n",
        "auto_file_path = 'auto.xlsx'\n",
        "\n",
        "# Загружаем данные из первого листа каждого файла\n",
        "claims_data = pd.read_excel(claims_file_path, sheet_name='Лист1')\n",
        "auto_data = pd.read_excel(auto_file_path, sheet_name='Лист1')"
      ],
      "metadata": {
        "id": "KJ_BPbwmuESQ"
      },
      "execution_count": 3,
      "outputs": []
    },
    {
      "cell_type": "code",
      "source": [
        "# Создаем списки для хранения подозрительных совпадений VIN и GRZ\n",
        "suspicious_vins = []\n",
        "suspicious_grz = []\n",
        "\n",
        "# Сравниваем каждый VIN и GRZ со всеми другими VIN и GRZ в наборе данных\n",
        "for i, row1 in auto_data.iterrows():\n",
        "    for j, row2 in auto_data.iterrows():\n",
        "        if i != j:  # Пропускаем сравнение самого с собой\n",
        "            vin_similarity = calculate_similarity(row1['VIN'], row2['VIN'])\n",
        "            grz_similarity = calculate_similarity(row1['GRZ'], row2['GRZ'])\n",
        "\n",
        "            # Если схожесть по VIN больше 0.8, считаем её подозрительной\n",
        "            if vin_similarity > 0.8:\n",
        "                suspicious_vins.append({\n",
        "                    'VIN_1': row1['VIN'], 'VIN_2': row2['VIN'],\n",
        "                    'GRZ_1': row1['GRZ'], 'GRZ_2': row2['GRZ'],\n",
        "                    'VIN_similarity': vin_similarity\n",
        "                })\n",
        "\n",
        "            # Если схожесть по GRZ больше 0.8, считаем её подозрительной\n",
        "            if grz_similarity > 0.8:\n",
        "                suspicious_grz.append({\n",
        "                    'VIN_1': row1['VIN'], 'VIN_2': row2['VIN'],\n",
        "                    'GRZ_1': row1['GRZ'], 'GRZ_2': row2['GRZ'],\n",
        "                    'GRZ_similarity': grz_similarity\n",
        "                })"
      ],
      "metadata": {
        "id": "3N1nuDNmuG3m"
      },
      "execution_count": 4,
      "outputs": []
    },
    {
      "cell_type": "code",
      "execution_count": 9,
      "metadata": {
        "colab": {
          "base_uri": "https://localhost:8080/"
        },
        "id": "fqyaCyLisApL",
        "outputId": "df759163-786b-430f-88d9-c236cdff020c"
      },
      "outputs": [
        {
          "output_type": "stream",
          "name": "stdout",
          "text": [
            "Подозрительные VIN:\n",
            "                VIN_1              VIN_2      GRZ_1      GRZ_2  VIN_similarity\n",
            "0   2BCHV81S4JB533621  2BCHV81S4JB533621   E726EK61  M421TM177        1.000000\n",
            "1   JTJBM7FX0A5000592  JTJBM7FX0A5000592   O484HH76   C714MY56        1.000000\n",
            "2   WP1AA2A28BL103838  WP1AA2A28BL103832  M878MM134  M178MM134        0.941176\n",
            "3   WP1AA2A28BL103838  WP1AA2A28BL103833  M878MM134  M778MM134        0.941176\n",
            "4   JHMSZ542XDC028494  JHMSZ542XDC028494   K656OP38  T120TC777        1.000000\n",
            "5   WP1AA2A28BL103832  WP1AA2A28BL103838  M178MM134  M878MM134        0.941176\n",
            "6   WP1AA2A28BL103832  WP1AA2A28BL103833  M178MM134  M778MM134        0.941176\n",
            "7   WP1AA2A28BL103833  WP1AA2A28BL103838  M778MM134  M878MM134        0.941176\n",
            "8   WP1AA2A28BL103833  WP1AA2A28BL103832  M778MM134  M178MM134        0.941176\n",
            "9   JTJBM7FX0A5000592  JTJBM7FX0A5000592   C714MY56   O484HH76        1.000000\n",
            "10  JN8AZ28R49T122921  JN8AZ28R49T122921   P377CA66   Y127KO89        1.000000\n",
            "11  2BCHV81S4JB533621  2BCHV81S4JB533621  M421TM177   E726EK61        1.000000\n",
            "12  JHMSZ542XDC028494  JHMSZ542XDC028494  T120TC777   K656OP38        1.000000\n",
            "13  JN8AZ28R49T122921  JN8AZ28R49T122921   Y127KO89   P377CA66        1.000000\n",
            "\n",
            "Подозрительные гос. знаки (GRZ):\n",
            "               VIN_1              VIN_2      GRZ_1      GRZ_2  GRZ_similarity\n",
            "0  WP1AA2A28BL103838  WP1AA2A28BL103832  M878MM134  M178MM134        0.888889\n",
            "1  WP1AA2A28BL103838  WP1AA2A28BL103833  M878MM134  M778MM134        0.888889\n",
            "2  WP1AA2A28BL103832  WP1AA2A28BL103838  M178MM134  M878MM134        0.888889\n",
            "3  WP1AA2A28BL103832  WP1AA2A28BL103833  M178MM134  M778MM134        0.888889\n",
            "4  WP1AA2A28BL103833  WP1AA2A28BL103838  M778MM134  M878MM134        0.888889\n",
            "5  WP1AA2A28BL103833  WP1AA2A28BL103832  M778MM134  M178MM134        0.888889\n",
            "\n",
            "Количество подозрительных VIN: 14\n",
            "Количество подозрительных гос. знаков (GRZ): 6\n"
          ]
        }
      ],
      "source": [
        "# Преобразуем результаты в DataFrame для удобства анализа\n",
        "suspicious_vins_df = pd.DataFrame(suspicious_vins)\n",
        "suspicious_grz_df = pd.DataFrame(suspicious_grz)\n",
        "\n",
        "# Выводим результаты\n",
        "print(\"Подозрительные VIN:\")\n",
        "print(suspicious_vins_df)\n",
        "\n",
        "print(\"\\nПодозрительные гос. знаки (GRZ):\")\n",
        "print(suspicious_grz_df)\n",
        "\n",
        "# Выводим количество подозрительных совпадений\n",
        "print(f\"\\nКоличество подозрительных VIN: {len(suspicious_vins)}\")\n",
        "print(f\"Количество подозрительных гос. знаков (GRZ): {len(suspicious_grz)}\")"
      ]
    }
  ]
}